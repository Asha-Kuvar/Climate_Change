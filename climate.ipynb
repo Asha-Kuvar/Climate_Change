{
 "cells": [
  {
   "cell_type": "code",
   "execution_count": 3,
   "id": "fb81dacf-7c24-4ea9-be2f-8ab77598beff",
   "metadata": {},
   "outputs": [
    {
     "name": "stdout",
     "output_type": "stream",
     "text": [
      "   Year    Country  Avg Temperature (°C)  CO2 Emissions (Tons/Capita)  \\\n",
      "0  2006         UK                   8.9                          9.3   \n",
      "1  2019        USA                  31.0                          4.8   \n",
      "2  2014     France                  33.9                          2.8   \n",
      "3  2010  Argentina                   5.9                          1.8   \n",
      "4  2007    Germany                  26.9                          5.6   \n",
      "\n",
      "   Sea Level Rise (mm)  Rainfall (mm)  Population  Renewable Energy (%)  \\\n",
      "0                  3.1           1441   530911230                  20.4   \n",
      "1                  4.2           2407   107364344                  49.2   \n",
      "2                  2.2           1241   441101758                  33.3   \n",
      "3                  3.2           1892  1069669579                  23.7   \n",
      "4                  2.4           1743   124079175                  12.5   \n",
      "\n",
      "   Extreme Weather Events  Forest Area (%)  \n",
      "0                      14             59.8  \n",
      "1                       8             31.0  \n",
      "2                       9             35.5  \n",
      "3                       7             17.7  \n",
      "4                       4             17.4  \n",
      "<class 'pandas.core.frame.DataFrame'>\n",
      "RangeIndex: 1000 entries, 0 to 999\n",
      "Data columns (total 10 columns):\n",
      " #   Column                       Non-Null Count  Dtype  \n",
      "---  ------                       --------------  -----  \n",
      " 0   Year                         1000 non-null   int64  \n",
      " 1   Country                      1000 non-null   object \n",
      " 2   Avg Temperature (°C)         1000 non-null   float64\n",
      " 3   CO2 Emissions (Tons/Capita)  1000 non-null   float64\n",
      " 4   Sea Level Rise (mm)          1000 non-null   float64\n",
      " 5   Rainfall (mm)                1000 non-null   int64  \n",
      " 6   Population                   1000 non-null   int64  \n",
      " 7   Renewable Energy (%)         1000 non-null   float64\n",
      " 8   Extreme Weather Events       1000 non-null   int64  \n",
      " 9   Forest Area (%)              1000 non-null   float64\n",
      "dtypes: float64(5), int64(4), object(1)\n",
      "memory usage: 78.2+ KB\n",
      "None\n",
      "              Year  Avg Temperature (°C)  CO2 Emissions (Tons/Capita)  \\\n",
      "count  1000.000000           1000.000000                  1000.000000   \n",
      "mean   2011.432000             19.883100                    10.425800   \n",
      "std       7.147199              8.542897                     5.614665   \n",
      "min    2000.000000              5.000000                     0.500000   \n",
      "25%    2005.000000             12.175000                     5.575000   \n",
      "50%    2012.000000             20.100000                    10.700000   \n",
      "75%    2018.000000             27.225000                    15.400000   \n",
      "max    2023.000000             34.900000                    20.000000   \n",
      "\n",
      "       Sea Level Rise (mm)  Rainfall (mm)    Population  Renewable Energy (%)  \\\n",
      "count          1000.000000    1000.000000  1.000000e+03           1000.000000   \n",
      "mean              3.009600    1738.761000  7.053830e+08             27.300500   \n",
      "std               1.146081     708.976616  4.093910e+08             12.970808   \n",
      "min               1.000000     501.000000  3.660891e+06              5.100000   \n",
      "25%               2.000000    1098.750000  3.436242e+08             16.100000   \n",
      "50%               3.000000    1726.000000  7.131166e+08             27.150000   \n",
      "75%               4.000000    2362.500000  1.073868e+09             38.925000   \n",
      "max               5.000000    2999.000000  1.397016e+09             50.000000   \n",
      "\n",
      "       Extreme Weather Events  Forest Area (%)  \n",
      "count             1000.000000      1000.000000  \n",
      "mean                 7.291000        40.572000  \n",
      "std                  4.422655        17.398998  \n",
      "min                  0.000000        10.100000  \n",
      "25%                  3.000000        25.600000  \n",
      "50%                  8.000000        41.150000  \n",
      "75%                 11.000000        55.800000  \n",
      "max                 14.000000        70.000000  \n"
     ]
    }
   ],
   "source": [
    "import pandas as pd\n",
    "\n",
    "# Load dataset\n",
    "file_path = \"C:/Users/Sairam/Downloads/climate_change_dataset.csv\"  # Update with actual path if needed\n",
    "\n",
    "df = pd.read_csv(file_path)\n",
    "\n",
    "# Display first few rows\n",
    "print(df.head())\n",
    "\n",
    "# Check for missing values\n",
    "print(df.info())\n",
    "\n",
    "# Summary statistics\n",
    "print(df.describe())\n"
   ]
  },
  {
   "cell_type": "code",
   "execution_count": 17,
   "id": "5bf93826-4467-45cd-aa29-b4968fc89e4c",
   "metadata": {},
   "outputs": [
    {
     "name": "stdout",
     "output_type": "stream",
     "text": [
      "✅ Data cleaned successfully!\n"
     ]
    }
   ],
   "source": [
    "# import pandas as pd\n",
    "# import numpy as np\n",
    "\n",
    "# # Load dataset\n",
    "# file_path = \"C:/Users/Sairam/Downloads/climate_change_dataset.csv\"  # Update path if needed\n",
    "# df = pd.read_csv(file_path)\n",
    "\n",
    "# Drop duplicate rows (if any)\n",
    "df.drop_duplicates(inplace=True)\n",
    "\n",
    "# Handle missing values (replace NaN with appropriate values)\n",
    "df.fillna({\n",
    "    \"avg_temperature\": df[\"avg_temperature\"].mean(),  \n",
    "    \"co2_emissions\": df[\"co2_emissions\"].mean(),  \n",
    "    \"forest_area\": df[\"forest_area\"].mean(), \n",
    "    \"population\": df[\"population\"].mean(), \n",
    "    \"sea_level_rise\": df[\"sea_level_rise\"].mean(),  \n",
    "    \"rainfall\": df[\"rainfall\"].mean(),\n",
    "    \"extreme_events\": 0  # Assuming missing values mean no extreme events\n",
    "}, inplace=True)\n",
    "\n",
    "# Convert data types (ensure numeric columns are correct)\n",
    "df[\"year\"] = df[\"year\"].astype(int)\n",
    "df[\"avg_temperature\"] = df[\"avg_temperature\"].astype(float)\n",
    "df[\"co2_emissions\"] = df[\"co2_emissions\"].astype(float)\n",
    "df[\"forest_area\"] = df[\"forest_area\"].astype(float)\n",
    "df[\"population\"] = df[\"population\"].astype(int)\n",
    "df[\"sea_level_rise\"] = df[\"sea_level_rise\"].astype(float)\n",
    "df[\"rainfall\"] = df[\"rainfall\"].astype(float)\n",
    "df[\"extreme_events\"] = df[\"extreme_events\"].astype(int)\n",
    "\n",
    "print(\"✅ Data cleaned successfully!\")\n"
   ]
  },
  {
   "cell_type": "code",
   "execution_count": 16,
   "id": "71a1d29f-0546-4920-960a-386562e7d0e6",
   "metadata": {},
   "outputs": [
    {
     "name": "stdout",
     "output_type": "stream",
     "text": [
      "Index(['year', 'country', 'avg_temperature', 'co2_emissions', 'sea_level_rise',\n",
      "       'rainfall', 'population', 'renewable_energy', 'extreme_events',\n",
      "       'forest_area'],\n",
      "      dtype='object')\n"
     ]
    }
   ],
   "source": [
    "print(df.columns)"
   ]
  },
  {
   "cell_type": "code",
   "execution_count": 5,
   "id": "623aca0e-9692-47fc-bbc1-adef179f75af",
   "metadata": {},
   "outputs": [],
   "source": [
    "df.rename(columns={\"Avg Temperature (°C)\": \"avg_temperature\"}, inplace=True)"
   ]
  },
  {
   "cell_type": "code",
   "execution_count": 7,
   "id": "4ecf6edb-3798-4313-90a3-bd0e273a635f",
   "metadata": {},
   "outputs": [],
   "source": [
    "df.rename(columns={\"CO2 Emissions (Tons/Capita)\": \"co2_emissions\"}, inplace=True)"
   ]
  },
  {
   "cell_type": "code",
   "execution_count": 8,
   "id": "6aeb8356-452c-45d2-807a-b079fdb7dcac",
   "metadata": {},
   "outputs": [],
   "source": [
    "df.rename(columns={\"Sea Level Rise (mm)\": \"sea_level_rise\"}, inplace=True)"
   ]
  },
  {
   "cell_type": "code",
   "execution_count": 10,
   "id": "b5eb1978-931b-46bd-bd31-2cb0e5140c16",
   "metadata": {},
   "outputs": [],
   "source": [
    "df.rename(columns={\"Rainfall (mm)\": \"rainfall\"}, inplace=True)"
   ]
  },
  {
   "cell_type": "code",
   "execution_count": 11,
   "id": "def98101-8e21-40c6-9fca-44880d878aca",
   "metadata": {},
   "outputs": [],
   "source": [
    "df.rename(columns={\"Population\": \"population\"}, inplace=True)"
   ]
  },
  {
   "cell_type": "code",
   "execution_count": 12,
   "id": "8c383978-100e-4785-832b-7b9a38a839be",
   "metadata": {},
   "outputs": [],
   "source": [
    "df.rename(columns={\"Renewable Energy (%)\": \"renewable_energy\"}, inplace=True)"
   ]
  },
  {
   "cell_type": "code",
   "execution_count": 13,
   "id": "14bbe5a6-62ef-4e31-894c-614c092f58b3",
   "metadata": {},
   "outputs": [],
   "source": [
    "df.rename(columns={\"Extreme Weather Events\": \"extreme_events\"}, inplace=True)"
   ]
  },
  {
   "cell_type": "code",
   "execution_count": 14,
   "id": "25164f62-f4b0-4daf-a6c6-99695cdb21f9",
   "metadata": {},
   "outputs": [],
   "source": [
    "df.rename(columns={\"Forest Area (%)\": \"forest_area\"}, inplace=True)"
   ]
  },
  {
   "cell_type": "code",
   "execution_count": 9,
   "id": "23cd28c6-8916-41be-8c9b-1801865ce18c",
   "metadata": {},
   "outputs": [],
   "source": [
    "df.rename(columns={\"Year\": \"year\"}, inplace=True)"
   ]
  },
  {
   "cell_type": "code",
   "execution_count": 15,
   "id": "b561d827-8842-4318-94d4-b9e47ba70e22",
   "metadata": {},
   "outputs": [],
   "source": [
    "df.rename(columns={\"Country\": \"country\"}, inplace=True)"
   ]
  },
  {
   "cell_type": "code",
   "execution_count": 18,
   "id": "a4ba9fd7-6860-428b-88cc-9e11237e3000",
   "metadata": {},
   "outputs": [
    {
     "name": "stdout",
     "output_type": "stream",
     "text": [
      "   year    country  avg_temperature  co2_emissions  sea_level_rise  rainfall  \\\n",
      "0  2006         UK              8.9            9.3             3.1    1441.0   \n",
      "1  2019        USA             31.0            4.8             4.2    2407.0   \n",
      "2  2014     France             33.9            2.8             2.2    1241.0   \n",
      "3  2010  Argentina              5.9            1.8             3.2    1892.0   \n",
      "4  2007    Germany             26.9            5.6             2.4    1743.0   \n",
      "\n",
      "   population  renewable_energy  extreme_events  forest_area  \n",
      "0   530911230              20.4              14         59.8  \n",
      "1   107364344              49.2               8         31.0  \n",
      "2   441101758              33.3               9         35.5  \n",
      "3  1069669579              23.7               7         17.7  \n",
      "4   124079175              12.5               4         17.4  \n"
     ]
    }
   ],
   "source": [
    "print(df.head())  # Show first 5 rows"
   ]
  },
  {
   "cell_type": "code",
   "execution_count": 20,
   "id": "49a51347-193b-4557-80da-c7eb7b5997df",
   "metadata": {},
   "outputs": [
    {
     "name": "stdout",
     "output_type": "stream",
     "text": [
      "✅ Data successfully inserted into MySQL!\n"
     ]
    }
   ],
   "source": [
    "import mysql.connector\n",
    "\n",
    "# Database connection\n",
    "conn = mysql.connector.connect(\n",
    "    host='localhost',\n",
    "        user='root',\n",
    "        password='9949237758',\n",
    "        database='climate_data'\n",
    ")\n",
    "cursor = conn.cursor()\n",
    "\n",
    "# Insert data into MySQL\n",
    "for _, row in df.iterrows():\n",
    "    cursor.execute(\"\"\"\n",
    "        INSERT INTO climate_records (country, year, avg_temperature, co2_emissions, forest_area,population, sea_level_rise, rainfall, extreme_events) \n",
    "        VALUES (%s, %s, %s, %s, %s, %s, %s, %s, %s)\n",
    "    \"\"\", (row[\"country\"], row[\"year\"], row[\"avg_temperature\"], row[\"co2_emissions\"], row[\"forest_area\"],row[\"population\"], row[\"sea_level_rise\"], row[\"rainfall\"], row[\"extreme_events\"]))\n",
    "\n",
    "# Commit and close connection\n",
    "conn.commit()\n",
    "cursor.close()\n",
    "conn.close()\n",
    "\n",
    "print(\"✅ Data successfully inserted into MySQL!\")\n"
   ]
  },
  {
   "cell_type": "code",
   "execution_count": 4,
   "id": "438d72d0-7e20-47ef-96c8-d5d1da9b7c59",
   "metadata": {},
   "outputs": [
    {
     "name": "stdout",
     "output_type": "stream",
     "text": [
      "     Year    Country  Avg Temperature (°C)  CO2 Emissions (Tons/Capita)  \\\n",
      "0    2006         UK                   8.9                          9.3   \n",
      "1    2019        USA                  31.0                          4.8   \n",
      "2    2014     France                  33.9                          2.8   \n",
      "3    2010  Argentina                   5.9                          1.8   \n",
      "4    2007    Germany                  26.9                          5.6   \n",
      "..    ...        ...                   ...                          ...   \n",
      "995  2019      India                  23.6                          8.0   \n",
      "996  2000         UK                  21.8                         10.0   \n",
      "997  2019  Argentina                  23.8                          8.9   \n",
      "998  2016  Australia                  21.0                         14.9   \n",
      "999  2011    Germany                  24.1                         17.3   \n",
      "\n",
      "     Sea Level Rise (mm)  Rainfall (mm)  Population  Renewable Energy (%)  \\\n",
      "0                    3.1           1441   530911230                  20.4   \n",
      "1                    4.2           2407   107364344                  49.2   \n",
      "2                    2.2           1241   441101758                  33.3   \n",
      "3                    3.2           1892  1069669579                  23.7   \n",
      "4                    2.4           1743   124079175                  12.5   \n",
      "..                   ...            ...         ...                   ...   \n",
      "995                  1.2           1365  1358019778                  10.0   \n",
      "996                  2.2           1273   876123161                  14.9   \n",
      "997                  4.7            891  1120533308                  25.9   \n",
      "998                  3.1           1136   380662109                  24.5   \n",
      "999                  2.1           2854   398407112                  41.0   \n",
      "\n",
      "     Extreme Weather Events  Forest Area (%)  \n",
      "0                        14             59.8  \n",
      "1                         8             31.0  \n",
      "2                         9             35.5  \n",
      "3                         7             17.7  \n",
      "4                         4             17.4  \n",
      "..                      ...              ...  \n",
      "995                       8             20.2  \n",
      "996                      14             30.1  \n",
      "997                      10             46.5  \n",
      "998                       3             44.5  \n",
      "999                       3             19.8  \n",
      "\n",
      "[1000 rows x 10 columns]\n"
     ]
    }
   ],
   "source": [
    "print(df)"
   ]
  },
  {
   "cell_type": "code",
   "execution_count": null,
   "id": "b5ab1214",
   "metadata": {},
   "outputs": [],
   "source": [
    "print(df)"
   ]
  }
 ],
 "metadata": {
  "kernelspec": {
   "display_name": "Python 3 (ipykernel)",
   "language": "python",
   "name": "python3"
  },
  "language_info": {
   "codemirror_mode": {
    "name": "ipython",
    "version": 3
   },
   "file_extension": ".py",
   "mimetype": "text/x-python",
   "name": "python",
   "nbconvert_exporter": "python",
   "pygments_lexer": "ipython3",
   "version": "3.9.0"
  }
 },
 "nbformat": 4,
 "nbformat_minor": 5
}
